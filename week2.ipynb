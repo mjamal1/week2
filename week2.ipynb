{
 "cells": [
  {
   "cell_type": "markdown",
   "metadata": {},
   "source": [
    "# Weekly Work Summary"
   ]
  },
  {
   "cell_type": "markdown",
   "metadata": {},
   "source": [
    "# Table of Contents\n",
    "\n",
    "1 Time Series Smoothing <br>\n",
    "2 Smoothing Techniques <br>\n",
    "    2.a  Exponential Smoothing <br>\n",
    "    2.b. Moving Average Smoothing <br>\n",
    "    2.c. KDE Smoothing <br>\n",
    "    2.d. Arima for Smoothing <br>"
   ]
  },
  {
   "cell_type": "markdown",
   "metadata": {},
   "source": [
    "## 1. Time Series Smoothing <a name=\"smoothing\"></a>"
   ]
  },
  {
   "cell_type": "markdown",
   "metadata": {},
   "source": [
    "In general the goals of time series modeling include, causal inference where the aim could be to describe how a stochastic process evolves, forecasting where the objective is to predict future values, and classification, where we want to classify a subsequence of a time series and more.  Smoothing is a preprocessing technique applied to time series signals to remove or reduce undesired or random variation between time steps so as to improve the performance of a given time series modeling target. The objective of smoothing is to remove noise and better expose the time series signal of the underlying causal processes. Applying smoothing to a time series could result in a signal with clearer patterns (cyclic property, seasonality, property of the residuals) and trends. "
   ]
  },
  {
   "cell_type": "markdown",
   "metadata": {},
   "source": [
    "## 2. Smoothing Techniques <a name=\"techniques\"></a>\n",
    "In this section I would like to experiment time series smoothing techniques using a toy example to illustrate each single step of the smoothing process so as to understand how this approaches work. The data used for experimentation is an hourly average temperature values of Zurich recorded on the 5th of November 2020. The tempreture values are in degree celsius and we assume we have the 24 values in an array. Before I go into each algorithm I would like to specify some of the common symbols that will be used later:\n",
    " \n",
    "| Symbol #  | Representation    \n",
    "|:-------------|:-----------|\n",
    "| X  | The whole time series     |\n",
    "| x  | A single value of the time series   |\n",
    "| t  | time index for a given value   |\n",
    "| S  | A smoothed value  |\n",
    "| $\\alpha$  | The smoothing factor   |\n"
   ]
  },
  {
   "cell_type": "code",
   "execution_count": 3,
   "metadata": {},
   "outputs": [
    {
     "data": {
      "text/html": [
       "<script>\n",
       "code_show=true; \n",
       "function code_toggle() {\n",
       " if (code_show){\n",
       " $('div.input').hide();\n",
       " } else {\n",
       " $('div.input').show();\n",
       " }\n",
       " code_show = !code_show\n",
       "} \n",
       "$( document ).ready(code_toggle);\n",
       "</script>\n",
       "<form action=\"javascript:code_toggle()\"><input type=\"submit\" value=\"Click here to toggle on/off the raw code.\"></form>"
      ],
      "text/plain": [
       "<IPython.core.display.HTML object>"
      ]
     },
     "execution_count": 3,
     "metadata": {},
     "output_type": "execute_result"
    }
   ],
   "source": [
    "from IPython.display import HTML\n",
    "\n",
    "HTML('''<script>\n",
    "code_show=true; \n",
    "function code_toggle() {\n",
    " if (code_show){\n",
    " $('div.input').hide();\n",
    " } else {\n",
    " $('div.input').show();\n",
    " }\n",
    " code_show = !code_show\n",
    "} \n",
    "$( document ).ready(code_toggle);\n",
    "</script>\n",
    "<form action=\"javascript:code_toggle()\"><input type=\"submit\" value=\"Click here to toggle on/off the raw code.\"></form>''')"
   ]
  },
  {
   "cell_type": "code",
   "execution_count": 8,
   "metadata": {},
   "outputs": [
    {
     "name": "stdout",
     "output_type": "stream",
     "text": [
      "Raw Values\n",
      "X =  [7, 7, 7, 6, 6, 5, 5, 6, 6, 7, 8, 9, 10, 10, 11, 11, 12, 10, 9, 8, 7, 6, 6, 6]\n"
     ]
    }
   ],
   "source": [
    "X = [7,7,7,6,6,5,5,6,6,7,8,9,10,10,11,11,12,10,9,8,7,6,6,6]\n",
    "print(\"Raw Values\")\n",
    "print(\"X = \",X)"
   ]
  },
  {
   "cell_type": "code",
   "execution_count": 2,
   "metadata": {},
   "outputs": [],
   "source": [
    "import numpy as np\n",
    "import matplotlib.pyplot as plt\n",
    "import pandas as pd\n",
    "from statsmodels.tsa.arima_model import ARIMA\n",
    "from sklearn.neighbors import KernelDensity"
   ]
  },
  {
   "cell_type": "code",
   "execution_count": 9,
   "metadata": {},
   "outputs": [
    {
     "data": {
      "image/png": "[encoded data removed]",
      "text/plain": [
       "<Figure size 432x288 with 1 Axes>"
      ]
     },
     "metadata": {
      "needs_background": "light"
     },
     "output_type": "display_data"
    }
   ],
   "source": [
    "plt.title(\"Zurich Temperature\")\n",
    "plt.plot(X,\"-*\")\n",
    "plt.xlabel(\"time\")\n",
    "plt.ylabel(\"Temperature in °C\")\n",
    "plt.legend(['Recorded Values'])\n",
    "plt.show()"
   ]
  },
  {
   "cell_type": "code",
   "execution_count": 10,
   "metadata": {},
   "outputs": [],
   "source": [
    "def exponential_smoother(signal,alpha):\n",
    "\n",
    "    d = signal\n",
    "    d = np.array(d)  # Transform the input into a numpy array    \n",
    "    cols = len(d)  # Historical period length    \n",
    "    #d = np.append(d,[np.nan]*extra_periods)  # Append np.nan into the demand array to cover future periods    \n",
    "    s = np.full(cols,np.nan)  # Forecast array   \n",
    "    s[0] = d[0]  # initialization of first forecast \n",
    "    # Create all the t+1 forecasts until end of historical period\n",
    "\n",
    "    for t in range(1,cols):      \n",
    "        s[t] = alpha*d[t-1]+(1-alpha)*s[t-1]   \n",
    "    \n",
    "    return s"
   ]
  },
  {
   "cell_type": "markdown",
   "metadata": {},
   "source": [
    "### 2.a. Exponential Smoothing  <a name=\"exp\"></a>\n",
    "\n",
    "\n",
    "This technique smoothes a time series signal using weighted averages of past observations, with the weights decaying exponentially as the observations get older. That is, the most recent the observed value is the higher the associated weight. The overall procedure is described below:\n",
    "\n",
    "\n",
    "<div style=\"background-color:rgba(0, 0, 0, 0.0470588); padding:10px 0;font-family:monospace;\">\n",
    "    Assume we are given a time series with values in an Array X<br>\n",
    "    &nbsp;&nbsp;&nbsp;&nbsp; 0. Input:= X ; Output := S // initially empty<br>\n",
    "    &nbsp;&nbsp;&nbsp;&nbsp; 1. Initialize: $s_{0} = x_{0}$<br>\n",
    "    &nbsp;&nbsp;&nbsp;&nbsp; 2. for t in 1..length(X)-1:<br>\n",
    "    &nbsp;&nbsp;&nbsp;&nbsp;&nbsp;&nbsp;&nbsp;&nbsp;&nbsp;&nbsp;&nbsp;&nbsp;$s_{t} = \\alpha *x_{t} + (1 – \\alpha) *s_{t-1}$------------(1)<br>    \n",
    "</div>\n",
    "The rate at which the weights decrease is controlled by the parameter $\\alpha$.\n",
    "Example:<br>\n",
    "Applying the above procedure on time series X, we have that s0 = x0 = 7. Then S1 is computed by plugging in s0=7, x1=7 and $\\alpha$= 0.8 in equation 1 we get, <br>\n",
    "$s1 = (0.8 *7) + (1-0.8)*7 = 5.6 + 1.4 = 7$. The table and plot below show the input data and the smoothed data after applying exponential smoothing. "
   ]
  },
  {
   "cell_type": "code",
   "execution_count": 17,
   "metadata": {},
   "outputs": [
    {
     "name": "stdout",
     "output_type": "stream",
     "text": [
      "    Input  Exp_Smoothing\n",
      "0       7       7.000000\n",
      "1       7       7.000000\n",
      "2       7       7.000000\n",
      "3       6       7.000000\n",
      "4       6       6.200000\n",
      "5       5       6.040000\n",
      "6       5       5.208000\n",
      "7       6       5.041600\n",
      "8       6       5.808320\n",
      "9       7       5.961664\n",
      "10      8       6.792333\n",
      "11      9       7.758467\n",
      "12     10       8.751693\n",
      "13     10       9.750339\n",
      "14     11       9.950068\n",
      "15     11      10.790014\n",
      "16     12      10.958003\n",
      "17     10      11.791601\n",
      "18      9      10.358320\n",
      "19      8       9.271664\n",
      "20      7       8.254333\n",
      "21      6       7.250867\n",
      "22      6       6.250173\n",
      "23      6       6.050035\n"
     ]
    },
    {
     "data": {
      "image/png": "[encoded data removed]",
      "text/plain": [
       "<Figure size 432x288 with 1 Axes>"
      ]
     },
     "metadata": {
      "needs_background": "light"
     },
     "output_type": "display_data"
    }
   ],
   "source": [
    "df = pd.DataFrame(X,columns=['Input'])\n",
    "df['Exp_Smoothing']=exponential_smoother(X,0.8)\n",
    "print(df)\n",
    "plt.plot(X,'-*b')\n",
    "plt.plot(df.Exp_Smoothing,'-or')\n",
    "plt.xlabel('time')\n",
    "plt.ylabel('Temperature °C')\n",
    "plt.legend(['Recorded_values','Exp_Smoothed'])\n",
    "plt.show()"
   ]
  },
  {
   "cell_type": "code",
   "execution_count": 18,
   "metadata": {},
   "outputs": [],
   "source": [
    "def moving_avg_smoother(signal,window):\n",
    "    a = signal\n",
    "    n = window\n",
    "    ret = np.cumsum(a, dtype=float)\n",
    "    ret[n:] = ret[n:] - ret[:-n]\n",
    "    s = ret[n - 1:] / n\n",
    "    return s"
   ]
  },
  {
   "cell_type": "markdown",
   "metadata": {},
   "source": [
    "### 2.b. Moving Average <a name=\"mvavg\"></a>\n",
    "Smoothing by taking the average in a given window is the simplest technique of removing random variation of a time series signal. The procedure of a moving average smoothing is as follows:\n",
    "<div style=\"background-color:rgba(0, 0, 0, 0.0470588); padding:10px 0;font-family:monospace;\">\n",
    "    Assume we are given a time series with values in an Array X<br>\n",
    "    &nbsp;&nbsp;&nbsp;&nbsp; 0. Input:= X ; Output := $MA_{w}$ // initially empty<br>\n",
    "    &nbsp;&nbsp;&nbsp;&nbsp; 1. Initialize: $step = 1 ; w = 3$<br>\n",
    "    &nbsp;&nbsp;&nbsp;&nbsp; 2. for t in 1..length(X)-2:<br>\n",
    "    &nbsp;&nbsp;&nbsp;&nbsp;&nbsp;&nbsp;&nbsp;&nbsp;&nbsp;&nbsp;&nbsp;&nbsp;$s_{t} = (1/w)*\\sum_{i=t-1}^{t+1} x_{i}$------------(2)<br>    \n",
    "</div>\n"
   ]
  },
  {
   "cell_type": "code",
   "execution_count": 79,
   "metadata": {},
   "outputs": [
    {
     "name": "stdout",
     "output_type": "stream",
     "text": [
      "    Input  Exp_Smoothing         MA  KDE\n",
      "0       7       7.000000   7.000000    6\n",
      "1       7       7.000000   7.000000    6\n",
      "2       7       7.000000   6.666667    6\n",
      "3       6       7.000000   6.333333    6\n",
      "4       6       6.200000   5.666667    5\n",
      "5       5       6.040000   5.333333    5\n",
      "6       5       5.208000   5.333333    5\n",
      "7       6       5.041600   5.666667    5\n",
      "8       6       5.808320   6.333333    6\n",
      "9       7       5.961664   7.000000    7\n",
      "10      8       6.792333   8.000000    8\n",
      "11      9       7.758467   9.000000    8\n",
      "12     10       8.751693   9.666667    9\n",
      "13     10       9.750339  10.333333   10\n",
      "14     11       9.950068  10.666667   10\n",
      "15     11      10.790014  11.333333   11\n",
      "16     12      10.958003  11.000000   11\n",
      "17     10      11.791601  10.333333   10\n",
      "18      9      10.358320   9.000000    9\n",
      "19      8       9.271664   8.000000    8\n",
      "20      7       8.254333   7.000000    7\n",
      "21      6       7.250867   6.333333    6\n",
      "22      6       6.250173   6.000000    6\n",
      "23      6       6.050035   6.000000    6\n"
     ]
    },
    {
     "data": {
      "image/png": "[encoded data removed]",
      "text/plain": [
       "<Figure size 432x288 with 1 Axes>"
      ]
     },
     "metadata": {
      "needs_background": "light"
     },
     "output_type": "display_data"
    }
   ],
   "source": [
    "MA = list(moving_avg_smoother(X,3))\n",
    "MA.insert(0,X[0])\n",
    "MA.insert(len(MA),X[-1])\n",
    "df['MA']=MA\n",
    "print(df)\n",
    "plt.plot(X,'-*b')\n",
    "plt.plot(df.Exp_Smoothing,'-or')\n",
    "plt.plot(df.MA,'-+g')\n",
    "plt.xlabel('time')\n",
    "plt.ylabel('Temperature °C')\n",
    "plt.legend(['Recorded_values','Exp_Smoothed','Mv_Avg'])\n",
    "plt.show()"
   ]
  },
  {
   "cell_type": "markdown",
   "metadata": {},
   "source": [
    "### 2.c. KDE Smoothing <a name=\"kde\"></a>\n",
    "This is a method where probability distribution of observations is used as weights for averaging so as to get a smooth signal. The probabilities are then used as smoothing factors for past and future values to compute the current smoothed value. The kde smoothing procedure is as follows:\n",
    "<div style=\"background-color:rgba(0, 0, 0, 0.0470588); padding:10px 0;font-family:monospace;\">\n",
    "    Assume we are given a time series with values in an Array X<br>\n",
    "    &nbsp;&nbsp;&nbsp;&nbsp; 0. Input:= X ; Output := x_kde // initially empty<br>\n",
    "    &nbsp;&nbsp;&nbsp;&nbsp; 1. Initialize: h = the bandwidth, sigma = std(X)<br>\n",
    "    &nbsp;&nbsp;&nbsp;&nbsp; 2. for t in 0..length(X)-1://outer loop<br>\n",
    "    &nbsp;&nbsp;&nbsp;&nbsp; 3. $s_{t} = 0$<br>\n",
    "    &nbsp;&nbsp;&nbsp;&nbsp;&nbsp;&nbsp;&nbsp;&nbsp; 3. for t' in 0..length(X)-1://inner loop<br>\n",
    "    &nbsp;&nbsp;&nbsp;&nbsp;&nbsp;&nbsp;&nbsp;&nbsp;&nbsp;&nbsp;&nbsp;&nbsp;&nbsp;&nbsp;&nbsp;$d(x_{t},x_{t'}) = SQRT((x_{t}- x_{t'})^2)$ <br>  \n",
    "    &nbsp;&nbsp;&nbsp;&nbsp;&nbsp;&nbsp;&nbsp;&nbsp;&nbsp;&nbsp;&nbsp;&nbsp;&nbsp;&nbsp;&nbsp;$ a = 1/(sigma^2*2*\\pi)$ //normalizing factor <br> \n",
    "    &nbsp;&nbsp;&nbsp;&nbsp;&nbsp;&nbsp;&nbsp;&nbsp;&nbsp;&nbsp;&nbsp;&nbsp;&nbsp;&nbsp;&nbsp;$ p = a*\\exp(-d/2*sigma^2)$ //smoothing factor or probability <br> \n",
    "    &nbsp;&nbsp;&nbsp;&nbsp;&nbsp;&nbsp;&nbsp;&nbsp;&nbsp;&nbsp;&nbsp;&nbsp;&nbsp;&nbsp;&nbsp;$ s_{t} = s_{t} + p*x_{t'}$ //smoothed value <br> \n",
    "     &nbsp;&nbsp;&nbsp;&nbsp;&nbsp; 4. append(S,$s_{t}$)<br>\n",
    "</div>\n",
    "\n"
   ]
  },
  {
   "cell_type": "code",
   "execution_count": 93,
   "metadata": {},
   "outputs": [],
   "source": [
    "def kde_smoother(signal):\n",
    "    def kernel_fn(x,x0):\n",
    "        d = np.sqrt((x-x0)**2)\n",
    "        sigma = np.std(x)**2\n",
    "        a = 1/(sigma*3.14*2)\n",
    "        p = a* np.exp(-0.5*(d)/(sigma))\n",
    "        s = np.multiply(p,x)\n",
    "        s = np.sum(s)\n",
    "        return s\n",
    "    fh = [kernel_fn(signal,x) for x in signal]\n",
    "    return fh"
   ]
  },
  {
   "cell_type": "code",
   "execution_count": 98,
   "metadata": {},
   "outputs": [
    {
     "data": {
      "image/png": "[encoded data removed]",
      "text/plain": [
       "<Figure size 432x288 with 1 Axes>"
      ]
     },
     "metadata": {
      "needs_background": "light"
     },
     "output_type": "display_data"
    }
   ],
   "source": [
    "from scipy.ndimage.filters import gaussian_filter1d\n",
    "x_kde = gaussian_filter1d(X, 1)\n",
    "df['KDE']=x_kde\n",
    "plt.plot(df['Input'],'-*b')\n",
    "plt.plot(df['KDE'],'-oy')\n",
    "plt.legend(['Input','KDE'])\n",
    "plt.show()"
   ]
  },
  {
   "cell_type": "code",
   "execution_count": 99,
   "metadata": {},
   "outputs": [
    {
     "data": {
      "text/html": [
       "<div>\n",
       "<style scoped>\n",
       "    .dataframe tbody tr th:only-of-type {\n",
       "        vertical-align: middle;\n",
       "    }\n",
       "\n",
       "    .dataframe tbody tr th {\n",
       "        vertical-align: top;\n",
       "    }\n",
       "\n",
       "    .dataframe thead th {\n",
       "        text-align: right;\n",
       "    }\n",
       "</style>\n",
       "<table border=\"1\" class=\"dataframe\">\n",
       "  <thead>\n",
       "    <tr style=\"text-align: right;\">\n",
       "      <th></th>\n",
       "      <th>Input</th>\n",
       "      <th>Exp_Smoothing</th>\n",
       "      <th>MA</th>\n",
       "      <th>KDE</th>\n",
       "    </tr>\n",
       "  </thead>\n",
       "  <tbody>\n",
       "    <tr>\n",
       "      <th>0</th>\n",
       "      <td>7</td>\n",
       "      <td>7.000000</td>\n",
       "      <td>7.000000</td>\n",
       "      <td>6</td>\n",
       "    </tr>\n",
       "    <tr>\n",
       "      <th>1</th>\n",
       "      <td>7</td>\n",
       "      <td>7.000000</td>\n",
       "      <td>7.000000</td>\n",
       "      <td>6</td>\n",
       "    </tr>\n",
       "    <tr>\n",
       "      <th>2</th>\n",
       "      <td>7</td>\n",
       "      <td>7.000000</td>\n",
       "      <td>6.666667</td>\n",
       "      <td>6</td>\n",
       "    </tr>\n",
       "    <tr>\n",
       "      <th>3</th>\n",
       "      <td>6</td>\n",
       "      <td>7.000000</td>\n",
       "      <td>6.333333</td>\n",
       "      <td>6</td>\n",
       "    </tr>\n",
       "    <tr>\n",
       "      <th>4</th>\n",
       "      <td>6</td>\n",
       "      <td>6.200000</td>\n",
       "      <td>5.666667</td>\n",
       "      <td>5</td>\n",
       "    </tr>\n",
       "    <tr>\n",
       "      <th>5</th>\n",
       "      <td>5</td>\n",
       "      <td>6.040000</td>\n",
       "      <td>5.333333</td>\n",
       "      <td>5</td>\n",
       "    </tr>\n",
       "    <tr>\n",
       "      <th>6</th>\n",
       "      <td>5</td>\n",
       "      <td>5.208000</td>\n",
       "      <td>5.333333</td>\n",
       "      <td>5</td>\n",
       "    </tr>\n",
       "    <tr>\n",
       "      <th>7</th>\n",
       "      <td>6</td>\n",
       "      <td>5.041600</td>\n",
       "      <td>5.666667</td>\n",
       "      <td>5</td>\n",
       "    </tr>\n",
       "    <tr>\n",
       "      <th>8</th>\n",
       "      <td>6</td>\n",
       "      <td>5.808320</td>\n",
       "      <td>6.333333</td>\n",
       "      <td>6</td>\n",
       "    </tr>\n",
       "    <tr>\n",
       "      <th>9</th>\n",
       "      <td>7</td>\n",
       "      <td>5.961664</td>\n",
       "      <td>7.000000</td>\n",
       "      <td>7</td>\n",
       "    </tr>\n",
       "    <tr>\n",
       "      <th>10</th>\n",
       "      <td>8</td>\n",
       "      <td>6.792333</td>\n",
       "      <td>8.000000</td>\n",
       "      <td>8</td>\n",
       "    </tr>\n",
       "    <tr>\n",
       "      <th>11</th>\n",
       "      <td>9</td>\n",
       "      <td>7.758467</td>\n",
       "      <td>9.000000</td>\n",
       "      <td>8</td>\n",
       "    </tr>\n",
       "    <tr>\n",
       "      <th>12</th>\n",
       "      <td>10</td>\n",
       "      <td>8.751693</td>\n",
       "      <td>9.666667</td>\n",
       "      <td>9</td>\n",
       "    </tr>\n",
       "    <tr>\n",
       "      <th>13</th>\n",
       "      <td>10</td>\n",
       "      <td>9.750339</td>\n",
       "      <td>10.333333</td>\n",
       "      <td>10</td>\n",
       "    </tr>\n",
       "    <tr>\n",
       "      <th>14</th>\n",
       "      <td>11</td>\n",
       "      <td>9.950068</td>\n",
       "      <td>10.666667</td>\n",
       "      <td>10</td>\n",
       "    </tr>\n",
       "    <tr>\n",
       "      <th>15</th>\n",
       "      <td>11</td>\n",
       "      <td>10.790014</td>\n",
       "      <td>11.333333</td>\n",
       "      <td>11</td>\n",
       "    </tr>\n",
       "    <tr>\n",
       "      <th>16</th>\n",
       "      <td>12</td>\n",
       "      <td>10.958003</td>\n",
       "      <td>11.000000</td>\n",
       "      <td>11</td>\n",
       "    </tr>\n",
       "    <tr>\n",
       "      <th>17</th>\n",
       "      <td>10</td>\n",
       "      <td>11.791601</td>\n",
       "      <td>10.333333</td>\n",
       "      <td>10</td>\n",
       "    </tr>\n",
       "    <tr>\n",
       "      <th>18</th>\n",
       "      <td>9</td>\n",
       "      <td>10.358320</td>\n",
       "      <td>9.000000</td>\n",
       "      <td>9</td>\n",
       "    </tr>\n",
       "    <tr>\n",
       "      <th>19</th>\n",
       "      <td>8</td>\n",
       "      <td>9.271664</td>\n",
       "      <td>8.000000</td>\n",
       "      <td>8</td>\n",
       "    </tr>\n",
       "    <tr>\n",
       "      <th>20</th>\n",
       "      <td>7</td>\n",
       "      <td>8.254333</td>\n",
       "      <td>7.000000</td>\n",
       "      <td>7</td>\n",
       "    </tr>\n",
       "    <tr>\n",
       "      <th>21</th>\n",
       "      <td>6</td>\n",
       "      <td>7.250867</td>\n",
       "      <td>6.333333</td>\n",
       "      <td>6</td>\n",
       "    </tr>\n",
       "    <tr>\n",
       "      <th>22</th>\n",
       "      <td>6</td>\n",
       "      <td>6.250173</td>\n",
       "      <td>6.000000</td>\n",
       "      <td>6</td>\n",
       "    </tr>\n",
       "    <tr>\n",
       "      <th>23</th>\n",
       "      <td>6</td>\n",
       "      <td>6.050035</td>\n",
       "      <td>6.000000</td>\n",
       "      <td>6</td>\n",
       "    </tr>\n",
       "  </tbody>\n",
       "</table>\n",
       "</div>"
      ],
      "text/plain": [
       "    Input  Exp_Smoothing         MA  KDE\n",
       "0       7       7.000000   7.000000    6\n",
       "1       7       7.000000   7.000000    6\n",
       "2       7       7.000000   6.666667    6\n",
       "3       6       7.000000   6.333333    6\n",
       "4       6       6.200000   5.666667    5\n",
       "5       5       6.040000   5.333333    5\n",
       "6       5       5.208000   5.333333    5\n",
       "7       6       5.041600   5.666667    5\n",
       "8       6       5.808320   6.333333    6\n",
       "9       7       5.961664   7.000000    7\n",
       "10      8       6.792333   8.000000    8\n",
       "11      9       7.758467   9.000000    8\n",
       "12     10       8.751693   9.666667    9\n",
       "13     10       9.750339  10.333333   10\n",
       "14     11       9.950068  10.666667   10\n",
       "15     11      10.790014  11.333333   11\n",
       "16     12      10.958003  11.000000   11\n",
       "17     10      11.791601  10.333333   10\n",
       "18      9      10.358320   9.000000    9\n",
       "19      8       9.271664   8.000000    8\n",
       "20      7       8.254333   7.000000    7\n",
       "21      6       7.250867   6.333333    6\n",
       "22      6       6.250173   6.000000    6\n",
       "23      6       6.050035   6.000000    6"
      ]
     },
     "execution_count": 99,
     "metadata": {},
     "output_type": "execute_result"
    }
   ],
   "source": [
    "df"
   ]
  },
  {
   "cell_type": "code",
   "execution_count": 102,
   "metadata": {},
   "outputs": [
    {
     "name": "stdout",
     "output_type": "stream",
     "text": [
      "RMSE Exp_Smoothing =  0.9337660546291883\n",
      "RMSE MovingAvg_Smoothing =  0.31914236925211276\n",
      "RMSE KDE_Smoothing =  0.6123724356957945\n"
     ]
    }
   ],
   "source": [
    "from sklearn.metrics import mean_squared_error as mse\n",
    "print('RMSE Exp_Smoothing = ',np.sqrt(mse(df['Input'].values,df['Exp_Smoothing'].values)))\n",
    "print('RMSE MovingAvg_Smoothing = ',np.sqrt(mse(df['Input'].values,df['MA'].values)))\n",
    "print('RMSE KDE_Smoothing = ',np.sqrt(mse(df['Input'].values,df['KDE'].values)))"
   ]
  },
  {
   "cell_type": "code",
   "execution_count": null,
   "metadata": {},
   "outputs": [],
   "source": []
  }
 ],
 "metadata": {
  "kernelspec": {
   "display_name": "Python 3",
   "language": "python",
   "name": "python3"
  },
  "language_info": {
   "codemirror_mode": {
    "name": "ipython",
    "version": 3
   },
   "file_extension": ".py",
   "mimetype": "text/x-python",
   "name": "python",
   "nbconvert_exporter": "python",
   "pygments_lexer": "ipython3",
   "version": "3.8.3"
  }
 },
 "nbformat": 4,
 "nbformat_minor": 4
}
